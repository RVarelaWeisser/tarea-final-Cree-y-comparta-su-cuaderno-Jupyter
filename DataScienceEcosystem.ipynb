{
 "cells": [
  {
   "cell_type": "markdown",
   "id": "f0e614e0",
   "metadata": {},
   "source": [
    "# Data Science Tools and Ecosystem"
   ]
  },
  {
   "cell_type": "markdown",
   "id": "28745d70",
   "metadata": {},
   "source": [
    "En este cuaderno, se resumen las herramientas y ecosistemas de ciencia de datos."
   ]
  },
  {
   "cell_type": "markdown",
   "id": "0e4ac526",
   "metadata": {},
   "source": [
    "***Objetivos:***\n",
    " + Listar lenguajes populares para Ciencia de Datos\n",
    " + Listar bibliotecas de uso comun para DS\n",
    " + Crear tablas "
   ]
  },
  {
   "attachments": {},
   "cell_type": "markdown",
   "id": "7cfafe27",
   "metadata": {},
   "source": [
    "Algunos de los lenguajes populares que utilizan los científicos de datos son:"
   ]
  },
  {
   "cell_type": "markdown",
   "id": "6ff359dd",
   "metadata": {},
   "source": [
    "* Python \n",
    "* R \n",
    "* SQL\n",
    "* SCALA"
   ]
  },
  {
   "cell_type": "markdown",
   "id": "c37fe3f9",
   "metadata": {},
   "source": [
    "Algunas de las bibliotecas comúnmente utilizadas por los científicos de datos incluyen:"
   ]
  },
  {
   "cell_type": "markdown",
   "id": "494ba2a3",
   "metadata": {},
   "source": [
    "* Scikit-learn\n",
    "* Keras / Tensorflow\n",
    "* Pandas"
   ]
  },
  {
   "cell_type": "markdown",
   "id": "7ffbf79f",
   "metadata": {},
   "source": [
    "|Herramientas de Ciencia de Datos|\n",
    "|------------|\n",
    "|Apache Spark|\n",
    "|Git Hub|\n",
    "|RStudio|"
   ]
  },
  {
   "cell_type": "markdown",
   "id": "4518650d",
   "metadata": {},
   "source": [
    "### A continuación, se presentan algunos ejemplos de evaluación de expresiones aritméticas en Python"
   ]
  },
  {
   "cell_type": "code",
   "execution_count": 3,
   "id": "3a50169a",
   "metadata": {},
   "outputs": [
    {
     "data": {
      "text/plain": [
       "17"
      ]
     },
     "execution_count": 3,
     "metadata": {},
     "output_type": "execute_result"
    }
   ],
   "source": [
    "# Esta es una expresión aritmética simple para multiplicar y luego sumar enteros\n",
    "(3*4)+5"
   ]
  },
  {
   "cell_type": "code",
   "execution_count": 4,
   "id": "e8af1c5e",
   "metadata": {},
   "outputs": [
    {
     "data": {
      "text/plain": [
       "3.3333333333333335"
      ]
     },
     "execution_count": 4,
     "metadata": {},
     "output_type": "execute_result"
    }
   ],
   "source": [
    "# Esto convertirá 200 minutos a horas dividiendo por 60\n",
    "200/60"
   ]
  },
  {
   "cell_type": "markdown",
   "id": "af64ebc7",
   "metadata": {},
   "source": [
    "## Autor\n",
    "RODRIGO VARELA WEISSER "
   ]
  }
 ],
 "metadata": {
  "kernelspec": {
   "display_name": "Python 3 (ipykernel)",
   "language": "python",
   "name": "python3"
  },
  "language_info": {
   "codemirror_mode": {
    "name": "ipython",
    "version": 3
   },
   "file_extension": ".py",
   "mimetype": "text/x-python",
   "name": "python",
   "nbconvert_exporter": "python",
   "pygments_lexer": "ipython3",
   "version": "3.9.12"
  }
 },
 "nbformat": 4,
 "nbformat_minor": 5
}
